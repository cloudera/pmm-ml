{
 "cells": [
  {
   "cell_type": "code",
   "execution_count": 1,
   "id": "ab86c018-728b-4d64-992f-858ce7b1ab7c",
   "metadata": {},
   "outputs": [],
   "source": [
    "import requests\n",
    "import pandas as pd\n",
    "import os\n",
    "from bs4 import BeautifulSoup\n",
    "from urllib.parse import urljoin, urlparse"
   ]
  },
  {
   "cell_type": "code",
   "execution_count": 2,
   "id": "f2c651dc-7122-4082-8b49-d0622bc06fe7",
   "metadata": {},
   "outputs": [],
   "source": [
    "# download base page\n",
    "base_page = 'https://www.ux1.eiu.edu/~cxtdm/met/snow/images.html'\n",
    "result = requests.get(base_page)"
   ]
  },
  {
   "cell_type": "code",
   "execution_count": 3,
   "id": "075a79e3-e029-46c9-afd5-5426ec6d876b",
   "metadata": {},
   "outputs": [],
   "source": [
    "# if success, download into bs object\n",
    "if result.status_code == 200:\n",
    "    soup = BeautifulSoup(result.content, \"html.parser\")"
   ]
  },
  {
   "cell_type": "code",
   "execution_count": 4,
   "id": "1352e1dc-5094-4b48-a5cc-74415ce1db7c",
   "metadata": {},
   "outputs": [],
   "source": [
    "# parse all image urls to list\n",
    "snowflake_urls = []\n",
    "matches = ['http', 'html', 'Desktop']\n",
    "for link in soup.find_all('a'):\n",
    "    url = str(link.get('href'))\n",
    "    if all(x in url for x in matches):\n",
    "        snowflake_urls.append(url)"
   ]
  },
  {
   "cell_type": "code",
   "execution_count": 5,
   "id": "714de4dd-824a-43cc-ac59-4564e53b9da8",
   "metadata": {},
   "outputs": [],
   "source": [
    "# create folder for snowflake images\n",
    "exists = os.path.exists(os.path.join('images', 'snowflakes'))\n",
    "if not exists:\n",
    "    os.mkdir(os.path.join('images', 'snowflakes'))"
   ]
  },
  {
   "cell_type": "code",
   "execution_count": 6,
   "id": "ca808bfb-19f2-4195-8a95-73455344bcf6",
   "metadata": {
    "tags": []
   },
   "outputs": [],
   "source": [
    "# create list of image urls from base page \n",
    "snowflake_image_urls = []\n",
    "\n",
    "for snowflake_url in snowflake_urls:\n",
    "    snowflake_result = requests.get(snowflake_url)\n",
    "    if snowflake_result.status_code == 200:\n",
    "        snowflake_soup = BeautifulSoup(snowflake_result.content, \"html.parser\")\n",
    "        \n",
    "    for img in snowflake_soup.find_all(\"img\"):\n",
    "        img_url = img.attrs.get(\"src\")\n",
    "        if not img_url:\n",
    "            # if img does not contain src attribute, just skip\n",
    "            continue\n",
    "        img_url = urljoin(snowflake_url, img_url)\n",
    "        \n",
    "        # ommit images not from the right domain\n",
    "        if img_url.split('/')[2] == 'www.ux1.eiu.edu':\n",
    "            snowflake_image_urls.append(img_url)"
   ]
  },
  {
   "cell_type": "code",
   "execution_count": 28,
   "id": "907b31f4-7d0d-46fb-9078-e1b0dc544908",
   "metadata": {},
   "outputs": [],
   "source": [
    "# download images\n",
    "for url in test_urls:\n",
    "    img_data = requests.get(url, stream=True).content\n",
    "    filename = os.path.join('images', 'snowflakes', url.split('/')[-3] + '_' + url.split('/')[-1])\n",
    "    with open(filename, 'wb') as handler:\n",
    "        handler.write(img_data)"
   ]
  }
 ],
 "metadata": {
  "kernelspec": {
   "display_name": "Python 3",
   "language": "python",
   "name": "python3"
  },
  "language_info": {
   "codemirror_mode": {
    "name": "ipython",
    "version": 3
   },
   "file_extension": ".py",
   "mimetype": "text/x-python",
   "name": "python",
   "nbconvert_exporter": "python",
   "pygments_lexer": "ipython3",
   "version": "3.6.14"
  }
 },
 "nbformat": 4,
 "nbformat_minor": 5
}
